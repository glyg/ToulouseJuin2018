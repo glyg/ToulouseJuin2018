{
 "cells": [
  {
   "cell_type": "markdown",
   "metadata": {
    "slideshow": {
     "slide_type": "skip"
    }
   },
   "source": [
    "\n",
    "In this talk, I will present the `tyssue` library, used to model epithelium at the cell level.\n",
    "\n",
    "After a brief discussion of the biology, I will discuss the physical and technical aspects of modeling living mater. What physics do we need to accurately model tissues? What are the limits of current models, and\n",
    "which new ones should be implemented?\n",
    "On a computing point of view, we'll examine how scientific python can be used in a modelling context. I will give some details on our open-science and continuous integration stategies."
   ]
  },
  {
   "cell_type": "markdown",
   "metadata": {
    "slideshow": {
     "slide_type": "slide"
    }
   },
   "source": [
    "# Modeling Biological Tissues with Scientific Python\n",
    "\n",
    "LASS -- 31/05/2018\n",
    "\n",
    "### Guillaume Gay\n",
    "\n"
   ]
  },
  {
   "cell_type": "markdown",
   "metadata": {
    "slideshow": {
     "slide_type": "slide"
    }
   },
   "source": [
    "## The biology of epithelial cells\n",
    "\n",
    "\n",
    "![Three columnar cells](epithelium.png)"
   ]
  },
  {
   "cell_type": "markdown",
   "metadata": {
    "slideshow": {
     "slide_type": "slide"
    }
   },
   "source": [
    "\n",
    "\n",
    "\n",
    " <iframe src=\"https://media.cellsignal.com/www/html/science/landscapes/adhesion/adhesion.html\" height=600, width=600></iframe> \n",
    "\n",
    "\n",
    "https://www.cellsignal.com/contents/science-cellular-landscapes/"
   ]
  },
  {
   "cell_type": "markdown",
   "metadata": {
    "slideshow": {
     "slide_type": "slide"
    }
   },
   "source": [
    "## Spherical cell model : PhysiCell\n",
    "\n",
    "* BioFMV reaction/diffusion solver\n",
    "* Multi-Agent\n",
    "* C++ / XML\n",
    "\n",
    "\n",
    "<p style=\"width: 800px\">\n",
    " ![PhysiCell software](physicell_example.png)\n",
    "<p/>\n",
    "\n",
    "A Ghaffarizadeh, R Heiland, S H. Friedman, S M. Mumenthaler, P Macklin, [_PhysiCell: An open source physics-based cell simulator for 3-D multicellular systems_](http://journals.plos.org/ploscompbiol/article?id=10.1371/journal.pcbi.1005991), Plos Computational Biology (2018).\n"
   ]
  },
  {
   "cell_type": "markdown",
   "metadata": {
    "slideshow": {
     "slide_type": "subslide"
    }
   },
   "source": [
    "* High cell number\n",
    "* Good for signaling & chemistry\n",
    "* Far from epithelium geometry\n",
    "* Very integrated description of mechanics"
   ]
  },
  {
   "cell_type": "markdown",
   "metadata": {
    "slideshow": {
     "slide_type": "slide"
    }
   },
   "source": [
    "\n",
    "## Quasistatic approximation for vertex models\n",
    "\n",
    "\n",
    "\n",
    "![Jülicher](faradifar_model.jpeg)\n",
    "\n",
    "\n",
    "$$ E = \\sum_\\alpha \\left( \\frac{K_A}{2}(A_\\alpha - A_0)^2 + \\frac{\\Gamma}{2} L_\\alpha^2 \\right) + \\sum_{i,j} \\Lambda \\ell_{ij}$$\n",
    "\n",
    "> [Farhadifar et al. Curr. Bio. 2007](https://doi.org/10.1016/j.cub.2007.11.049)"
   ]
  },
  {
   "cell_type": "markdown",
   "metadata": {
    "slideshow": {
     "slide_type": "slide"
    }
   },
   "source": [
    "### Fold formation in 2D1/2\n",
    "\n",
    " <table style=\"width:100%; border: 0px\">\n",
    "  <tr style=\"border: 0px\">\n",
    "    <td style=\"text-align: center; border: 0px\"> <img src=\"apical_vue_in_vivo.gif\" alt=\"In vivo apical vue\"> </td>\n",
    "    <td style=\"text-align: center; border: 0px\"> <img src=\"bio_legjoint.png\" alt=\"Modeling elements\"> </td>\n",
    "  </tr>\n",
    "</table>\n",
    "\n",
    "\n",
    "> [Monier, Gettings _et al._ Nature 2015](http://dx.doi.org/10.1038/nature14152)\n",
    "\n"
   ]
  },
  {
   "cell_type": "markdown",
   "metadata": {
    "slideshow": {
     "slide_type": "subslide"
    }
   },
   "source": [
    "$$ E = \\sum_\\alpha \\left( \\frac{K_v}{2}(V_\\alpha - V_0)^2 + \\frac{\\Gamma}{2} L_\\alpha^2 \\right) + \\sum_{i,j} \\Lambda \\ell_{ij} + \\sum_i R h_i$$\n",
    "\n",
    " <table style=\"width:100%; border: 0px\">\n",
    "   <tr style=\"border: 0px\">\n",
    "    <td style=\"text-align: center; border: 0px, width: 300px\"> <img src=\"fold_00_small.gif\" alt=\"No force\"> </td>\n",
    "    <td style=\"text-align: center; border: 0px, width: 300px\"> <img src=\"fold_12_small.gif\" alt=\"With force\"> </td>\n",
    "  </tr>\n",
    "</table> \n",
    "\n"
   ]
  },
  {
   "cell_type": "markdown",
   "metadata": {
    "slideshow": {
     "slide_type": "slide"
    }
   },
   "source": [
    "### Beyond quasistatic: Okuda et al & the conditions for stable 3D models\n",
    "\n",
    "$$\\eta_i^v\\left(\\frac{d\\mathbf{r}_i}{dt} - \\mathbf{v}_i^f\\right) = -\\mathbf{\\nabla}_i U$$\n",
    "\n",
    " <table style=\"width:100%; border: 0px\">\n",
    "   <tr style=\"border: 0px\">\n",
    "    <td style=\"text-align: center; border: 0px, width: 300px\"> <img src=\"okuda_fig3.png\" alt=\"No force\"> </td>\n",
    "    <td style=\"text-align: center; border: 0px, width: 300px\"> <img src=\"okuda_2013.png\" alt=\"With force\"> </td>\n",
    "  </tr>\n",
    "</table> \n",
    "\n",
    "\n",
    "\n",
    "> [Okuda et al Biomech Model Mechanobiol 2013](https://doi.org/10.1007/s10237-012-0430-7)\n",
    "> [Okuda et al Biomech Model Mechanobiol 2014](https://doi.org/10.1007/s10237-014-0613-5)\n",
    "> [Okuda et al Biomech Model Mechanobiol 2015](https://doi.org/10.1007/s10237-015-0724-7)"
   ]
  },
  {
   "cell_type": "markdown",
   "metadata": {
    "slideshow": {
     "slide_type": "slide"
    }
   },
   "source": [
    "### Towards a rheology of living mater\n",
    "\n",
    "![Rheology](rheology.png)\n",
    "\n",
    "- Laplace \n",
    "  $$\\Delta P_{BA} = (\\sigma_{ij} + \\sigma_{ji}) C_{ij}$$\n",
    "\n",
    "- Plateau: \n",
    "  $$ \\sum_{e_{ij}} \\left(\\sigma_{ij} \\cos(\\beta_{ij} - \\alpha_{ij})\\right) - \\sum_{e_{ji}} \\left(\\sigma_{ji} \\cos(\\beta_{ji} + \\alpha_{ji})\\right) = 0$$\n",
    "\n",
    "- rheology \n",
    "  $$ \\dot{L_{ij}} = L_{ij}\\left(\\frac{\\dot{\\sigma_{ij}}}{k_{ij}} + \\frac{\\sigma_{ij}}{\\eta_{ij}} - m_{ij}\\right) + v_c(e_{ij}) + v_c(e_{ji})$$\n",
    "\n",
    "- strain rate \n",
    "  $$ \\frac{\\dot{\\sigma_{ij}}}{k_{ij}} + \\frac{\\sigma_{ij}}{\\eta_{ij}} - m_{ij} - \\left(\\frac{\\dot{\\sigma_{ji}}}{k_{ji}}  + \\frac{\\sigma_{ji}}{\\eta_{ji}} - m_{ji}\\right) = 0$$\n",
    "  \n"
   ]
  },
  {
   "cell_type": "markdown",
   "metadata": {
    "slideshow": {
     "slide_type": "slide"
    }
   },
   "source": [
    "## Tyssue\n",
    "\n",
    "\n",
    "\n"
   ]
  },
  {
   "cell_type": "markdown",
   "metadata": {
    "slideshow": {
     "slide_type": "slide"
    }
   },
   "source": [
    "## Perspectives\n",
    "\n",
    "<blockquote class=\"twitter-tweet\" data-partner=\"tweetdeck\"><p lang=\"en\" dir=\"ltr\">Some open questions for cell-based models of developing tissues, generated in my chalk talk this morning. What have we missed? <a href=\"https://t.co/pjQnpZYWdY\">pic.twitter.com/pjQnpZYWdY</a></p>&mdash; Alexander Fletcher (@AlexGFletcher) <a href=\"https://twitter.com/AlexGFletcher/status/998862091653210112?ref_src=twsrc%5Etfw\">May 22, 2018</a></blockquote>\n",
    "<script async src=\"https://platform.twitter.com/widgets.js\" charset=\"utf-8\"></script>\n"
   ]
  },
  {
   "cell_type": "code",
   "execution_count": null,
   "metadata": {
    "collapsed": true
   },
   "outputs": [],
   "source": []
  }
 ],
 "metadata": {
  "celltoolbar": "Slideshow",
  "kernelspec": {
   "display_name": "Python 3",
   "language": "python",
   "name": "python3"
  },
  "language_info": {
   "codemirror_mode": {
    "name": "ipython",
    "version": 3
   },
   "file_extension": ".py",
   "mimetype": "text/x-python",
   "name": "python",
   "nbconvert_exporter": "python",
   "pygments_lexer": "ipython3",
   "version": "3.6.5"
  }
 },
 "nbformat": 4,
 "nbformat_minor": 2
}
