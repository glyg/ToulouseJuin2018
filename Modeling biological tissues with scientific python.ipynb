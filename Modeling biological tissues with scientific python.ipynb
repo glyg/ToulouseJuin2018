{
 "cells": [
  {
   "cell_type": "markdown",
   "metadata": {},
   "source": [
    "\n",
    "In this talk, I will present the `tyssue` library, used to model epithelium at the cell level.\n",
    "\n",
    "After a brief discussion of the biology, I will discuss the physical and technical aspects of modeling living mater. What physics do we need to accurately model tissues? What are the limits of current models, and\n",
    "which new ones should be implemented?\n",
    "On a computing point of view, we'll examine how scientific python can be used in a modelling context. I will give some details on our open-science and continuous integration stategies."
   ]
  },
  {
   "cell_type": "markdown",
   "metadata": {},
   "source": [
    "## The biology of epithelial cells"
   ]
  },
  {
   "cell_type": "markdown",
   "metadata": {},
   "source": []
  },
  {
   "cell_type": "markdown",
   "metadata": {},
   "source": [
    "## Cell based versus vertex based models\n",
    "\n",
    "### Cell based models, mathematical oncology\n",
    "\n",
    "### Quasistatic approximation for vertex models\n",
    "\n",
    "### Beyond quasistatic: Okuda et al & the conditions for 3D models\n",
    "\n",
    "### Towards a rheology of living mater\n",
    "\n",
    "\n"
   ]
  },
  {
   "cell_type": "code",
   "execution_count": null,
   "metadata": {},
   "outputs": [],
   "source": []
  },
  {
   "cell_type": "code",
   "execution_count": null,
   "metadata": {},
   "outputs": [],
   "source": []
  },
  {
   "cell_type": "markdown",
   "metadata": {},
   "source": [
    "## Vertex models in scientific python\n",
    "\n",
    "### Numpy, scipy, pandas\n",
    "\n",
    "### Tyssue, an API not an app\n",
    "\n",
    "\n",
    "\n",
    "### Current possibility\n",
    "\n"
   ]
  },
  {
   "cell_type": "code",
   "execution_count": null,
   "metadata": {},
   "outputs": [],
   "source": []
  },
  {
   "cell_type": "markdown",
   "metadata": {},
   "source": [
    "## Perspectives"
   ]
  },
  {
   "cell_type": "markdown",
   "metadata": {},
   "source": [
    "<blockquote class=\"twitter-tweet\" data-partner=\"tweetdeck\"><p lang=\"en\" dir=\"ltr\">Some open questions for cell-based models of developing tissues, generated in my chalk talk this morning. What have we missed? <a href=\"https://t.co/pjQnpZYWdY\">pic.twitter.com/pjQnpZYWdY</a></p>&mdash; Alexander Fletcher (@AlexGFletcher) <a href=\"https://twitter.com/AlexGFletcher/status/998862091653210112?ref_src=twsrc%5Etfw\">May 22, 2018</a></blockquote>\n",
    "<script async src=\"https://platform.twitter.com/widgets.js\" charset=\"utf-8\"></script>\n"
   ]
  },
  {
   "cell_type": "code",
   "execution_count": null,
   "metadata": {},
   "outputs": [],
   "source": []
  }
 ],
 "metadata": {
  "kernelspec": {
   "display_name": "Python 3",
   "language": "python",
   "name": "python3"
  },
  "language_info": {
   "codemirror_mode": {
    "name": "ipython",
    "version": 3
   },
   "file_extension": ".py",
   "mimetype": "text/x-python",
   "name": "python",
   "nbconvert_exporter": "python",
   "pygments_lexer": "ipython3",
   "version": "3.6.5"
  }
 },
 "nbformat": 4,
 "nbformat_minor": 2
}
